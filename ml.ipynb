{
 "cells": [
  {
   "cell_type": "code",
   "execution_count": 2,
   "metadata": {},
   "outputs": [
    {
     "name": "stderr",
     "output_type": "stream",
     "text": [
      "C:\\Users\\DELL\\AppData\\Local\\Temp\\ipykernel_992\\2437106005.py:5: FutureWarning: The default value of numeric_only in DataFrameGroupBy.sum is deprecated. In a future version, numeric_only will default to False. Either specify numeric_only or select only columns which should be valid for the function.\n",
      "  total_score_df=delveries.groupby(['match_id','inning']).sum()['total_runs'].reset_index()\n"
     ]
    }
   ],
   "source": [
    "import numpy as np\n",
    "import pandas as pd\n",
    "match=pd.read_csv('matches.csv')\n",
    "delveries=pd.read_csv('deliveries.csv')\n",
    "total_score_df=delveries.groupby(['match_id','inning']).sum()['total_runs'].reset_index()\n",
    "total_score_df=total_score_df[total_score_df['inning']==1]\n",
    "match_df=match.merge(total_score_df[['match_id','total_runs']],left_on='id',right_on='match_id')\n",
    "match_df['team1']=match_df['team1'].str.replace('Delhi Daredevils','Delhi Capitals')\n",
    "match_df['team2']=match_df['team2'].str.replace('Delhi Daredevils','Delhi Capitals')\n",
    "match_df['team1']=match_df['team1'].str.replace('Deccan Chargers','Sunrisers Hyderabad')\n",
    "match_df['team2']=match_df['team2'].str.replace('Deccan Chargers','Sunrisers Hyderabad')\n",
    "teams=[\n",
    "    'Kolkata Knight Riders','Chennai Super Kings','Rajasthan Royals','Royal Challengers Bangalore','Mumbai Indians','Sunrisers Hyderabad','Delhi Capitals','Kings XI Punjab'\n",
    "    ]\n",
    "match_df=match_df[match_df['team1'].isin(teams)]\n",
    "match_df=match_df[match_df['team2'].isin(teams)]\n"
   ]
  },
  {
   "cell_type": "code",
   "execution_count": 3,
   "metadata": {},
   "outputs": [
    {
     "name": "stderr",
     "output_type": "stream",
     "text": [
      "C:\\Users\\DELL\\AppData\\Local\\Temp\\ipykernel_992\\1900655179.py:4: FutureWarning: The default value of numeric_only in DataFrameGroupBy.cumsum is deprecated. In a future version, numeric_only will default to False. Either specify numeric_only or select only columns which should be valid for the function.\n",
      "  delveries_df['current_score']=delveries_df.groupby('match_id').cumsum()['total_runs_y']\n",
      "C:\\Users\\DELL\\AppData\\Local\\Temp\\ipykernel_992\\1900655179.py:10: FutureWarning: The default value of numeric_only in DataFrameGroupBy.cumsum is deprecated. In a future version, numeric_only will default to False. Either specify numeric_only or select only columns which should be valid for the function.\n",
      "  wickets=delveries_df.groupby('match_id').cumsum()['player_dismissed'].values\n",
      "C:\\Users\\DELL\\AppData\\Local\\Temp\\ipykernel_992\\1900655179.py:19: SettingWithCopyWarning: \n",
      "A value is trying to be set on a copy of a slice from a DataFrame\n",
      "\n",
      "See the caveats in the documentation: https://pandas.pydata.org/pandas-docs/stable/user_guide/indexing.html#returning-a-view-versus-a-copy\n",
      "  final_df.dropna(inplace=True)\n"
     ]
    }
   ],
   "source": [
    "match_df=match_df[['match_id','city','winner','total_runs']]\n",
    "delveries_df=match_df.merge(delveries,on='match_id')\n",
    "delveries_df=delveries_df[delveries_df['inning']==2]\n",
    "delveries_df['current_score']=delveries_df.groupby('match_id').cumsum()['total_runs_y']\n",
    "delveries_df['runs_left']=delveries_df['total_runs_x']-delveries_df['current_score']\n",
    "delveries_df['balls_left']=126-(delveries_df['over']*6+delveries_df['ball'])\n",
    "delveries_df['player_dismissed']=delveries_df['player_dismissed'].fillna(\"0\")\n",
    "delveries_df['player_dismissed']=delveries_df['player_dismissed'].apply(lambda x:x if x==\"0\" else \"1\")\n",
    "delveries_df['player_dismissed']=delveries_df['player_dismissed'].astype('int')\n",
    "wickets=delveries_df.groupby('match_id').cumsum()['player_dismissed'].values\n",
    "delveries_df['wicket']=10-wickets\n",
    "delveries_df['crr']=delveries_df['current_score']*6/(120-delveries_df['balls_left'])\n",
    "delveries_df['rrr']=(delveries_df['runs_left']*6)/(delveries_df['balls_left'])\n",
    "def result(row):\n",
    "    return 1 if row['batting_team']==row['winner'] else 0\n",
    "delveries_df['result']=delveries_df.apply(result,axis=1)\n",
    "final_df=delveries_df[['batting_team','bowling_team','city','runs_left','balls_left','wicket','total_runs_x','crr','rrr','result']]\n",
    "final_df.sample(final_df.shape[0])\n",
    "final_df.dropna(inplace=True)\n",
    "final_df=final_df[final_df['balls_left']!=0]\n"
   ]
  },
  {
   "cell_type": "code",
   "execution_count": 4,
   "metadata": {},
   "outputs": [],
   "source": [
    "X=final_df.iloc[:,:-1]\n",
    "y=final_df.iloc[:,-1]\n",
    "from sklearn.model_selection import train_test_split\n",
    "X_train,X_test,y_train,y_test=train_test_split(X,y,test_size=0.2,random_state=1)\n",
    "\n"
   ]
  },
  {
   "cell_type": "code",
   "execution_count": 5,
   "metadata": {},
   "outputs": [],
   "source": [
    "from sklearn.compose import ColumnTransformer\n",
    "from sklearn.preprocessing import OneHotEncoder\n",
    "trf=ColumnTransformer([\n",
    "    ('trf',OneHotEncoder(sparse=False,drop='first'),['batting_team','bowling_team','city'])\n",
    "],remainder='passthrough')"
   ]
  },
  {
   "cell_type": "code",
   "execution_count": 6,
   "metadata": {},
   "outputs": [],
   "source": [
    "from sklearn.linear_model import LogisticRegression\n",
    "from sklearn.pipeline import Pipeline"
   ]
  },
  {
   "cell_type": "code",
   "execution_count": 7,
   "metadata": {},
   "outputs": [
    {
     "name": "stderr",
     "output_type": "stream",
     "text": [
      "C:\\Users\\DELL\\AppData\\Roaming\\Python\\Python311\\site-packages\\sklearn\\preprocessing\\_encoders.py:828: FutureWarning: `sparse` was renamed to `sparse_output` in version 1.2 and will be removed in 1.4. `sparse_output` is ignored unless you leave `sparse` to its default value.\n",
      "  warnings.warn(\n"
     ]
    },
    {
     "data": {
      "text/plain": [
       "0.7998200318405205"
      ]
     },
     "execution_count": 7,
     "metadata": {},
     "output_type": "execute_result"
    }
   ],
   "source": [
    "pipe=Pipeline(steps=[('step1',trf),('step2',LogisticRegression(solver='liblinear'))])\n",
    "pipe.fit(X_train,y_train)\n",
    "y_pred=pipe.predict(X_test)\n",
    "from sklearn.metrics import accuracy_score\n",
    "accuracy_score(y_test,y_pred)\n"
   ]
  },
  {
   "cell_type": "code",
   "execution_count": 8,
   "metadata": {},
   "outputs": [
    {
     "data": {
      "text/plain": [
       "['Kolkata Knight Riders',\n",
       " 'Chennai Super Kings',\n",
       " 'Rajasthan Royals',\n",
       " 'Royal Challengers Bangalore',\n",
       " 'Mumbai Indians',\n",
       " 'Sunrisers Hyderabad',\n",
       " 'Delhi Capitals',\n",
       " 'Kings XI Punjab']"
      ]
     },
     "execution_count": 8,
     "metadata": {},
     "output_type": "execute_result"
    }
   ],
   "source": [
    "teams"
   ]
  },
  {
   "cell_type": "code",
   "execution_count": 9,
   "metadata": {},
   "outputs": [],
   "source": [
    "delveries_df['city'].unique()\n",
    "import pickle\n",
    "pickle.dump(pipe,open('pipe.pkl','wb'))"
   ]
  },
  {
   "cell_type": "code",
   "execution_count": null,
   "metadata": {},
   "outputs": [],
   "source": []
  }
 ],
 "metadata": {
  "kernelspec": {
   "display_name": "Python 3",
   "language": "python",
   "name": "python3"
  },
  "language_info": {
   "codemirror_mode": {
    "name": "ipython",
    "version": 3
   },
   "file_extension": ".py",
   "mimetype": "text/x-python",
   "name": "python",
   "nbconvert_exporter": "python",
   "pygments_lexer": "ipython3",
   "version": "3.11.3"
  },
  "orig_nbformat": 4
 },
 "nbformat": 4,
 "nbformat_minor": 2
}
